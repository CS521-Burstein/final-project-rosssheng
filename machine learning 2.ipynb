{
 "cells": [
  {
   "cell_type": "code",
   "execution_count": 13,
   "id": "76b85683",
   "metadata": {},
   "outputs": [],
   "source": [
    "from sklearn.metrics import classification_report, confusion_matrix, accuracy_score\n",
    "from sklearn.model_selection import train_test_split\n",
    "from sklearn.feature_extraction.text import TfidfVectorizer\n",
    "from sklearn.pipeline import Pipeline\n",
    "from sklearn.linear_model import PassiveAggressiveClassifier\n",
    "from sklearn.naive_bayes import MultinomialNB\n",
    "import pickle\n",
    "from sklearn import *"
   ]
  },
  {
   "cell_type": "code",
   "execution_count": 14,
   "id": "10338e87",
   "metadata": {},
   "outputs": [],
   "source": [
    "#import data\n",
    "import script\n",
    "df = script.df\n",
    "data_frame = script.data_frame"
   ]
  },
  {
   "cell_type": "code",
   "execution_count": 15,
   "id": "b502460f",
   "metadata": {},
   "outputs": [],
   "source": [
    "x = df['text']\n",
    "y = df['label']"
   ]
  },
  {
   "cell_type": "code",
   "execution_count": 16,
   "id": "ece4a281",
   "metadata": {},
   "outputs": [],
   "source": [
    "#divide the data into train and test set, 20% of rows\n",
    "x_train, x_test, y_train, y_test = train_test_split(x, y, test_size = 0.2)"
   ]
  },
  {
   "cell_type": "code",
   "execution_count": 17,
   "id": "3af0b403",
   "metadata": {},
   "outputs": [],
   "source": [
    "#divide into a word and find  meaningful words \n",
    "tfidf_vectorizer = TfidfVectorizer(stop_words = \"english\", max_df = 0.7)\n",
    "tfidf_train = tfidf_vectorizer.fit_transform(x_train)\n",
    "tfidf_test = tfidf_vectorizer.transform(x_test)"
   ]
  },
  {
   "cell_type": "code",
   "execution_count": 41,
   "id": "70585dad",
   "metadata": {},
   "outputs": [
    {
     "name": "stdout",
     "output_type": "stream",
     "text": [
      "Accuracy: 94.32%\n"
     ]
    }
   ],
   "source": [
    "#classify the data and calculate the accracy of the predict value\n",
    "pac = PassiveAggressiveClassifier(max_iter = 50)\n",
    "pac.fit(tfidf_train, y_train)\n",
    "y_pred = pac.predict(tfidf_test)\n",
    "score = accuracy_score(y_test, y_pred)\n",
    "print(f'Accuracy: {round(score*100, 2)}%')"
   ]
  },
  {
   "cell_type": "code",
   "execution_count": 31,
   "id": "98022848",
   "metadata": {},
   "outputs": [],
   "source": [
    "#makes the data into the machine learning model fully automated. Simplify above code with a pipeline to vectorize and classify test content\n",
    "pipeline = Pipeline([('tfidf', TfidfVectorizer(stop_words = \"english\")),('pamodel',PassiveAggressiveClassifier())])\n"
   ]
  },
  {
   "cell_type": "code",
   "execution_count": 32,
   "id": "857c8949",
   "metadata": {},
   "outputs": [
    {
     "data": {
      "text/plain": [
       "Pipeline(steps=[('tfidf', TfidfVectorizer(stop_words='english')),\n",
       "                ('pamodel', PassiveAggressiveClassifier())])"
      ]
     },
     "execution_count": 32,
     "metadata": {},
     "output_type": "execute_result"
    }
   ],
   "source": [
    "#run train data\n",
    "pipeline.fit(x_train, y_train)"
   ]
  },
  {
   "cell_type": "code",
   "execution_count": 37,
   "id": "79df95f3",
   "metadata": {},
   "outputs": [
    {
     "name": "stdout",
     "output_type": "stream",
     "text": [
      "accuracy: 0.9479084451460142\n"
     ]
    }
   ],
   "source": [
    "#calculate the acuuracy of the test score\n",
    "score=pipeline.score(x_test, y_test)\n",
    "print('accuracy:', score)"
   ]
  },
  {
   "cell_type": "code",
   "execution_count": 43,
   "id": "e814987e",
   "metadata": {},
   "outputs": [],
   "source": [
    "# predict the test score with a pipeline\n",
    "pred = pipeline.predict(x_test)"
   ]
  },
  {
   "cell_type": "code",
   "execution_count": 44,
   "id": "428805e7",
   "metadata": {},
   "outputs": [
    {
     "name": "stdout",
     "output_type": "stream",
     "text": [
      "              precision    recall  f1-score   support\n",
      "\n",
      "        FAKE       0.95      0.95      0.95       638\n",
      "        REAL       0.95      0.94      0.95       629\n",
      "\n",
      "    accuracy                           0.95      1267\n",
      "   macro avg       0.95      0.95      0.95      1267\n",
      "weighted avg       0.95      0.95      0.95      1267\n",
      "\n"
     ]
    }
   ],
   "source": [
    "#classification report, performance evaluation table \n",
    "print(classification_report(y_test, pred))"
   ]
  },
  {
   "cell_type": "code",
   "execution_count": 45,
   "id": "89079b45",
   "metadata": {},
   "outputs": [],
   "source": [
    "with open('model.pkl', 'wb') as handle: #write pkl file for simple webapp\n",
    "    pickle.dump(pipeline, handle, protocol=pickle.HIGHEST_PROTOCOL)"
   ]
  },
  {
   "cell_type": "code",
   "execution_count": null,
   "id": "876ca48f",
   "metadata": {},
   "outputs": [],
   "source": []
  }
 ],
 "metadata": {
  "kernelspec": {
   "display_name": "Python 3 (ipykernel)",
   "language": "python",
   "name": "python3"
  },
  "language_info": {
   "codemirror_mode": {
    "name": "ipython",
    "version": 3
   },
   "file_extension": ".py",
   "mimetype": "text/x-python",
   "name": "python",
   "nbconvert_exporter": "python",
   "pygments_lexer": "ipython3",
   "version": "3.9.7"
  }
 },
 "nbformat": 4,
 "nbformat_minor": 5
}
