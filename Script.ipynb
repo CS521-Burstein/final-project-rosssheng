{
 "cells": [
  {
   "cell_type": "code",
   "execution_count": 2,
   "id": "ea53b372",
   "metadata": {},
   "outputs": [],
   "source": [
    "import pandas as pd\n",
    "CSV_URL = \"https://github.com/bursteinalan/Data-Sets/raw/master/Fake%20News/news.csv\"\n",
    "df = pd.read_csv(CSV_URL)\n",
    "\n",
    "data_frame = pd.DataFrame(df)"
   ]
  },
  {
   "cell_type": "code",
   "execution_count": null,
   "id": "88dd2482",
   "metadata": {},
   "outputs": [],
   "source": []
  }
 ],
 "metadata": {
  "kernelspec": {
   "display_name": "Python 3 (ipykernel)",
   "language": "python",
   "name": "python3"
  },
  "language_info": {
   "codemirror_mode": {
    "name": "ipython",
    "version": 3
   },
   "file_extension": ".py",
   "mimetype": "text/x-python",
   "name": "python",
   "nbconvert_exporter": "python",
   "pygments_lexer": "ipython3",
   "version": "3.9.7"
  }
 },
 "nbformat": 4,
 "nbformat_minor": 5
}
